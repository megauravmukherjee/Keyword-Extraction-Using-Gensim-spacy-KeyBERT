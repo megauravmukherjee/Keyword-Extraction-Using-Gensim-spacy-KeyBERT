{
 "cells": [
  {
   "cell_type": "code",
   "execution_count": 1,
   "id": "745fbacf",
   "metadata": {},
   "outputs": [],
   "source": [
    "raw_data= open('4.txt').read()"
   ]
  },
  {
   "cell_type": "code",
   "execution_count": 2,
   "id": "c62a5f23",
   "metadata": {},
   "outputs": [
    {
     "data": {
      "text/plain": [
       "'Are you looking for ways to improve your SEO? Want to create copy your users love that will rank well on Google?\\nThe team from SEMrush\\xa0share their SEO copywriting tips in this infographic.\\nHere’s a quick summary:\\n\\nFind the right keywords\\nFind questions people ask\\nIdentify and map search intent\\nCheck competitors’ articles for your target keywords\\nGather original data\\nOptimize your header, meta title, and meta description\\nCreate organized, easy-to-read content\\nInclude visuals\\nInclude CTAs (calls-to-action)\\nKeep linking structure in mind\\n\\nCheck out the infographic\\xa0below for more.\\n\\nA version of this post was first published on the Red Website Design blog.\\n  \\n\\n\\n\\n\\n\\n\\n\\n\\n \\n\\n\\n\\n\\n\\n\\n \\n\\n\\n\\n\\n  \\n\\n \\n\\n\\n\\n\\n\\n\\n\\n\\n \\n\\n\\n\\n\\n\\n\\n \\n\\n\\n\\n\\n  \\n\\n \\n\\n\\n\\n\\n\\n\\n\\npost\\n\\n\\n\\n\\n\\n\\n\\nshare\\n\\n\\n\\n\\n\\n\\n\\ntweet\\n\\n\\n\\n\\n\\n\\n\\nprint\\n\\n\\n\\n\\n\\n\\n\\nemail\\n\\n\\n\\n\\n\\n\\nFiled Under:\\nContent Marketing, \\nInfographics\\n\\n\\n \\n\\n\\n\\n\\n\\n\\npost\\n\\n\\n\\n\\n\\n\\n\\nshare\\n\\n\\n\\n\\n\\n\\n\\ntweet\\n\\n\\n\\n\\n\\n\\n\\nprint\\n\\n\\n\\n\\n\\n\\n\\nemail\\n\\n\\n\\n \\n\\nFiled Under:\\nContent Marketing, \\nInfographics\\n\\n \\nFiled Under:\\nContent Marketing, \\nInfographics\\n'"
      ]
     },
     "execution_count": 2,
     "metadata": {},
     "output_type": "execute_result"
    }
   ],
   "source": [
    "raw_data[]"
   ]
  },
  {
   "cell_type": "code",
   "execution_count": 5,
   "id": "977be606",
   "metadata": {},
   "outputs": [
    {
     "name": "stdout",
     "output_type": "stream",
     "text": [
      "('Content Marketing', 0.05943775739690751)\n",
      "('Marketing', 0.10884521594402259)\n",
      "('content', 0.11585967579020429)\n",
      "('SEO', 0.12661789438037702)\n",
      "('Filed', 0.13942154707639925)\n",
      "('improve your SEO', 0.15585474045717462)\n",
      "('email Filed', 0.1965016773463899)\n",
      "('SEO copywriting', 0.1978535948488909)\n",
      "('Find', 0.20141972761843105)\n",
      "('Infographics', 0.20558952972160754)\n",
      "('Google', 0.21698852214190528)\n",
      "('share', 0.23113762293507586)\n",
      "('SEO copywriting tips', 0.2343635071464121)\n",
      "('post', 0.24543456816343437)\n",
      "('print email Filed', 0.26330108349081244)\n",
      "('improve', 0.270433988586138)\n",
      "('Red Website Design', 0.28102672798626094)\n",
      "('keywords', 0.28996954469076464)\n",
      "('Check', 0.2945128578113257)\n",
      "('Include', 0.32669294305159646)\n"
     ]
    }
   ],
   "source": [
    "import yake\n",
    "kw_extractor = yake.KeywordExtractor()\n",
    "keywords = kw_extractor.extract_keywords(raw_data)\n",
    "\n",
    "for kw in keywords:\n",
    "    print(kw)"
   ]
  },
  {
   "cell_type": "code",
   "execution_count": null,
   "id": "94fe1a7c",
   "metadata": {},
   "outputs": [],
   "source": []
  }
 ],
 "metadata": {
  "kernelspec": {
   "display_name": "Python 3 (ipykernel)",
   "language": "python",
   "name": "python3"
  },
  "language_info": {
   "codemirror_mode": {
    "name": "ipython",
    "version": 3
   },
   "file_extension": ".py",
   "mimetype": "text/x-python",
   "name": "python",
   "nbconvert_exporter": "python",
   "pygments_lexer": "ipython3",
   "version": "3.9.13"
  }
 },
 "nbformat": 4,
 "nbformat_minor": 5
}
